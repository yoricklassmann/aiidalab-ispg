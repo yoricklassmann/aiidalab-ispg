{
 "cells": [
  {
   "cell_type": "code",
   "execution_count": null,
   "id": "8b66ff79",
   "metadata": {},
   "outputs": [],
   "source": [
    "%%javascript\n",
    "IPython.OutputArea.prototype._should_scroll = function(lines) {\n",
    "    return false;\n",
    "}\n",
    "document.title = 'Spectrum Widget'\n",
    "if (document.getElementById('appmode-busy')) {\n",
    "    window.onbeforeunload = function() {return}\n",
    "}"
   ]
  },
  {
   "cell_type": "code",
   "execution_count": null,
   "id": "88b1c7c6",
   "metadata": {},
   "outputs": [],
   "source": [
    "# Activate Bokeh\n",
    "\n",
    "# https://docs.bokeh.org/en/latest/docs/user_guide/jupyter.html\n",
    "# https://github.com/bokeh/bokeh/blob/branch-3.0/examples/howto/server_embed/notebook_embed.ipynb\n",
    "from bokeh.io import output_notebook\n",
    "\n",
    "# https://docs.bokeh.org/en/latest/docs/reference/io.html#bokeh.io.output_notebook\n",
    "output_notebook(\n",
    "    hide_banner=True, load_timeout=5000, verbose=True\n",
    ")"
   ]
  },
  {
   "cell_type": "code",
   "execution_count": null,
   "id": "d8f591d5",
   "metadata": {},
   "outputs": [],
   "source": [
    "from aiida import load_profile\n",
    "from aiida.orm import load_node\n",
    "import ipywidgets as ipw\n",
    "\n",
    "profile = load_profile()"
   ]
  },
  {
   "cell_type": "code",
   "execution_count": null,
   "id": "7b5e2ac0",
   "metadata": {},
   "outputs": [],
   "source": [
    "from aiidalab_ispg.app.steps import ViewSpectrumStep\n",
    "from aiidalab_ispg.app import ISPGWorkChainSelector\n",
    "\n",
    "widget = ViewSpectrumStep()\n",
    "\n",
    "WORKCHAIN_LABEL = \"ATMOSPEC workflow\"\n",
    "work_chain_selector = ISPGWorkChainSelector(\n",
    "    process_label=WORKCHAIN_LABEL, \n",
    "    layout=ipw.Layout(width='auto')\n",
    ")\n",
    "\n",
    "def _observe_process_selection(change):\n",
    "    if change['old'] == change['new']:\n",
    "        return\n",
    "    pk = change['new']\n",
    "    if pk is None:\n",
    "        widget.reset()\n",
    "        return\n",
    "    process = load_node(pk)\n",
    "    if not process.is_finished_ok:\n",
    "        widget.reset()\n",
    "        return\n",
    "    widget.process_uuid = process.uuid\n",
    "\n",
    "work_chain_selector.observe(_observe_process_selection, 'value')\n",
    "\n",
    "display(ipw.VBox(children=[work_chain_selector, widget]))"
   ]
  }
 ],
 "metadata": {
  "kernelspec": {
   "display_name": "Python 3 (ipykernel)",
   "language": "python",
   "name": "python3"
  },
  "language_info": {
   "codemirror_mode": {
    "name": "ipython",
    "version": 3
   },
   "file_extension": ".py",
   "mimetype": "text/x-python",
   "name": "python",
   "nbconvert_exporter": "python",
   "pygments_lexer": "ipython3",
   "version": "3.9.13"
  }
 },
 "nbformat": 4,
 "nbformat_minor": 5
}
